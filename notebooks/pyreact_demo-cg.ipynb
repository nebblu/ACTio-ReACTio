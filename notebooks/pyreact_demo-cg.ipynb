{
 "cells": [
  {
   "cell_type": "markdown",
   "metadata": {},
   "source": [
    "# ReACT\n",
    "\n",
    "For the following example you need the Pyhton wrapper for CAMB installed. The easiest way to do this is to use the `conda` package:\n",
    "\n",
    "`conda install camb -c conda-forge`"
   ]
  },
  {
   "cell_type": "code",
   "execution_count": 1,
   "metadata": {},
   "outputs": [],
   "source": [
    "import numpy as np\n",
    "import camb\n",
    "\n",
    "%matplotlib inline\n",
    "import matplotlib.pyplot as plt\n",
    "\n",
    "import pyreact"
   ]
  },
  {
   "cell_type": "markdown",
   "metadata": {},
   "source": [
    "Set the cosmology and let CAMB compute the linear power spectrum."
   ]
  },
  {
   "cell_type": "code",
   "execution_count": 2,
   "metadata": {},
   "outputs": [],
   "source": [
    "Omega_c = 0.25\n",
    "Omega_b = 0.05\n",
    "h = 0.7\n",
    "n_s = 0.97\n",
    "A_s = 2.1e-9\n",
    "m_nu = 0.0\n",
    "w0 = -1.0\n",
    "w_a = 0.0\n",
    "\n",
    "# Model selection and parameters \n",
    "mymodelA = \"cg\"\n",
    "mymodelB = \"qcdm\"\n",
    "s = 2.\n",
    "q = 0.5\n",
    "massloop = 50\n",
    "\n",
    "extrapars = np.zeros(20)\n",
    "extrapars[0] = s\n",
    "extrapars[1] = q\n",
    "\n",
    "\n",
    "p = camb.CAMBparams(WantTransfer=True, \n",
    "                    Want_CMB=False, Want_CMB_lensing=False, DoLensing=False, \n",
    "                    NonLinear=\"NonLinear_none\",\n",
    "                    WantTensors=False, WantVectors=False, WantCls=False, WantDerivedParameters=False,\n",
    "                    want_zdrag=False, want_zstar=False, DarkEnergyModel=\"fluid\")\n",
    "    \n",
    "p.set_cosmology(H0=h*100, ombh2=Omega_b*h**2, omch2=Omega_c*h**2, omk=0, mnu=m_nu)\n",
    "p.set_initial_power(camb.initialpower.InitialPowerLaw(As=A_s, ns=n_s))\n",
    "p.set_dark_energy(w=w0,wa=w_a)\n",
    "\n",
    "p.set_matter_power(redshifts=np.linspace(0.0, 10.0, 64, endpoint=True)[::-1],\n",
    "                   kmax=10.0, nonlinear=False)\n",
    "\n",
    "r = camb.get_results(p)\n",
    "sigma_8 = r.get_sigma8()[-1]\n",
    "k_lin, z_lin, pofk_lin_camb = r.get_matter_power_spectrum(minkh=1e-4, maxkh=10.0, npoints=128)\n",
    "\n",
    "Omega_v = r.omega_de + r.get_Omega(\"photon\") + r.get_Omega(\"neutrino\")\n",
    "Omega_m = p.omegam"
   ]
  },
  {
   "cell_type": "markdown",
   "metadata": {},
   "source": [
    "Now run ReACT to get the reaction and the modified gravity linear power spectrum that will get used by HMCode."
   ]
  },
  {
   "cell_type": "code",
   "execution_count": 7,
   "metadata": {},
   "outputs": [],
   "source": [
    "react = pyreact.ReACT()\n",
    "\n",
    "# Only compute the reaction up to z=2.5\n",
    "z_lin = np.array(z_lin)\n",
    "z_react = z_lin[z_lin < 2.5]\n",
    "\n",
    "\n",
    "RA, pofk_lin_MG_reactB, sigma_8_MGA, pseudoA = react.compute_reaction_ext(\n",
    "                                h, n_s, Omega_m, Omega_b, sigma_8, z_react, k_lin, pofk_lin_camb[0], mymodelA, \n",
    "                                extrapars, \n",
    "                                compute_pseudo=True,\n",
    "                                is_transfer=False, mass_loop=massloop,\n",
    "                                verbose=True) \n",
    "\n",
    "RB, pofk_lin_MG_reactA, sigma_8_MGB, pseudoB  = react.compute_reaction_ext(\n",
    "                                h, n_s, Omega_m, Omega_b, sigma_8, z_react, k_lin, pofk_lin_camb[0], mymodelB, \n",
    "                                extrapars, \n",
    "                                compute_pseudo=True,\n",
    "                                is_transfer=False, mass_loop=massloop,\n",
    "                                verbose=True)  \n"
   ]
  },
  {
   "cell_type": "markdown",
   "metadata": {},
   "source": [
    "Now make some plots!"
   ]
  },
  {
   "cell_type": "code",
   "execution_count": 8,
   "metadata": {},
   "outputs": [
    {
     "data": {
      "text/plain": [
       "Text(0.5, 1.0, 'z = 0, s = 2.0, q = 0.5')"
      ]
     },
     "execution_count": 8,
     "metadata": {},
     "output_type": "execute_result"
    },
    {
     "data": {
      "image/png": "[encoded data removed]",
      "text/plain": [
       "<Figure size 360x360 with 2 Axes>"
      ]
     },
     "metadata": {
      "needs_background": "light"
     },
     "output_type": "display_data"
    }
   ],
   "source": [
    "fig, ax = plt.subplots(2, 1, sharex=True, figsize=(5, 5))\n",
    "fig.subplots_adjust(hspace=0)\n",
    "\n",
    "ax[0].loglog(k_lin, pofk_lin_camb[0], label=\"Linear, GR\")\n",
    "ax[0].loglog(k_lin, pofk_lin_MG_reactA[0], label=\"Linear, CG\")\n",
    "ax[0].loglog(k_lin, pofk_lin_MG_reactB[0], label=\"Linear, QCDM\")\n",
    "\n",
    "ax[1].fill_between(k_lin, RA[0],RB[0], color='grey')\n",
    "\n",
    "ax[0].legend(frameon=False)\n",
    "\n",
    "ax[0].set_ylabel(\"$P(k)$ [$h^{-3}$ Mpc$^3$]\")\n",
    "ax[1].set_ylabel(\"Reaction\")\n",
    "ax[1].set_xlabel(\"$k$ [$h$ Mpc$^{-1}$]\")\n",
    "\n",
    "ax[0].set_title(f\"z = 0, s = {extrapars[0]}, q = {extrapars[1]}\")\n"
   ]
  }
 ],
 "metadata": {
  "kernelspec": {
   "display_name": "Python 3",
   "language": "python",
   "name": "python3"
  },
  "language_info": {
   "codemirror_mode": {
    "name": "ipython",
    "version": 3
   },
   "file_extension": ".py",
   "mimetype": "text/x-python",
   "name": "python",
   "nbconvert_exporter": "python",
   "pygments_lexer": "ipython3",
   "version": "3.8.5"
  }
 },
 "nbformat": 4,
 "nbformat_minor": 2
}
